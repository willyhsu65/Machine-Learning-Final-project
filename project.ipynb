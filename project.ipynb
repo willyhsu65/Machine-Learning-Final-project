{
 "cells": [
  {
   "cell_type": "markdown",
   "metadata": {},
   "source": [
    "### Preprocess"
   ]
  },
  {
   "cell_type": "code",
   "execution_count": 68,
   "metadata": {},
   "outputs": [],
   "source": [
    "# import model\n",
    "import numpy as np\n",
    "import pandas as pd\n",
    "import matplotlib.pyplot as plt\n",
    "import math\n",
    "import os\n",
    "from PIL import Image\n",
    "#from sklearn.metrics import f1_score\n",
    "#from matplotlib.animation import FuncAnimation\n",
    "#from google.colab import drive\n",
    "#drive.mount('/content/drive')"
   ]
  },
  {
   "cell_type": "markdown",
   "metadata": {},
   "source": [
    "Read Data"
   ]
  },
  {
   "cell_type": "code",
   "execution_count": 69,
   "metadata": {},
   "outputs": [],
   "source": [
    "def _preprocess(image_arr, th=0.4):\n",
    "        image_arr[image_arr > th] = 1.0\n",
    "        image_arr[image_arr <= th] = 0.0\n",
    "        return image_arr"
   ]
  },
  {
   "cell_type": "code",
   "execution_count": null,
   "metadata": {},
   "outputs": [],
   "source": [
    "def SplitData(data):\n",
    "\n",
    "    X_train = data.iloc[:20000, :3].values  # Get training features\n",
    "    X_val = data.iloc[20000:, :3].values    # Get validation features\n",
    "    y_train = data.iloc[:20000, 3].values   # Get training labels\n",
    "    y_val = data.iloc[20000:, 3].values      # Get validation labels\n",
    "\n",
    "    return X_train, X_val, y_train, y_val\n",
    "X_train, X_val, y_train, y_val = SplitData(train)\n",
    "X_test = test.iloc[:, :3].values"
   ]
  },
  {
   "cell_type": "code",
   "execution_count": null,
   "metadata": {},
   "outputs": [],
   "source": [
    "from PIL import Image\n",
    "\n",
    "\n",
    "def image_resize(path):\n",
    "    # path : the image path you want to resize\n",
    "    # img_resized: img have resize to 360*360\n",
    "    #open picture\n",
    "    img = Image.open(\"D:\\MachineLearning_FinalProject\\code\\photo\\JayChou.jpg\")\n",
    "    # resize to 360*360\n",
    "    img_resized = img.resize((360, 360), Image.ANTIALIAS)\n",
    "    return img_resized"
   ]
  },
  {
   "cell_type": "code",
   "execution_count": 80,
   "metadata": {},
   "outputs": [],
   "source": [
    "def read_images_from_folder(folder_path):\n",
    "    # read images from 'folder_path'\n",
    "    # flat the image and push into 'images' array\n",
    "    images = []\n",
    "    for filename in os.listdir(folder_path):\n",
    "        if filename.lower().endswith('.jpg'):\n",
    "            file_path = os.path.join(folder_path, filename)\n",
    "            try:\n",
    "                # 打開圖片\n",
    "                with Image.open(file_path) as img:\n",
    "                    # 將圖片轉為灰階\n",
    "                    img = img.convert('L')\n",
    "                    # 檢查圖片尺寸是否為 360x360\n",
    "                    if img.size == (190, 195):\n",
    "                        # 將圖片轉換為 np.array 並進行標準化 (值範圍從 0 到 1)\n",
    "                        img_array = np.array(img) / 255.0\n",
    "                        # 將圖片展平 (flatten)\n",
    "                        img_array = img_array.flatten()\n",
    "                        images.append(img_array)\n",
    "                        print(images[0])\n",
    "                        print(f'image size: {len(images[0])}')\n",
    "                    else:\n",
    "                        print(f\"圖片尺寸為 {img.size}, 不是 360x360: {filename}\")\n",
    "            except UnidentifiedImageError:\n",
    "                print(f\"無法識別圖片文件: {filename}\")\n",
    "            except Exception as e:\n",
    "                print(f\"無法讀取圖片: {filename}, 錯誤: {e}\")\n",
    "    \n",
    "    return images"
   ]
  },
  {
   "cell_type": "code",
   "execution_count": 81,
   "metadata": {},
   "outputs": [
    {
     "ename": "NameError",
     "evalue": "name 'UnidentifiedImageError' is not defined",
     "output_type": "error",
     "traceback": [
      "\u001b[1;31m---------------------------------------------------------------------------\u001b[0m",
      "\u001b[1;31mUnidentifiedImageError\u001b[0m                    Traceback (most recent call last)",
      "Cell \u001b[1;32mIn[80], line 10\u001b[0m, in \u001b[0;36mread_images_from_folder\u001b[1;34m(folder_path)\u001b[0m\n\u001b[0;32m      8\u001b[0m \u001b[38;5;28;01mtry\u001b[39;00m:\n\u001b[0;32m      9\u001b[0m     \u001b[38;5;66;03m# 打開圖片\u001b[39;00m\n\u001b[1;32m---> 10\u001b[0m     \u001b[38;5;28;01mwith\u001b[39;00m \u001b[43mImage\u001b[49m\u001b[38;5;241;43m.\u001b[39;49m\u001b[43mopen\u001b[49m\u001b[43m(\u001b[49m\u001b[43mfile_path\u001b[49m\u001b[43m)\u001b[49m \u001b[38;5;28;01mas\u001b[39;00m img:\n\u001b[0;32m     11\u001b[0m         \u001b[38;5;66;03m# 將圖片轉為灰階\u001b[39;00m\n\u001b[0;32m     12\u001b[0m         img \u001b[38;5;241m=\u001b[39m img\u001b[38;5;241m.\u001b[39mconvert(\u001b[38;5;124m'\u001b[39m\u001b[38;5;124mL\u001b[39m\u001b[38;5;124m'\u001b[39m)\n",
      "File \u001b[1;32mc:\\Users\\user\\AppData\\Local\\Programs\\Python\\Python311\\Lib\\site-packages\\PIL\\Image.py:3298\u001b[0m, in \u001b[0;36mopen\u001b[1;34m(fp, mode, formats)\u001b[0m\n\u001b[0;32m   3297\u001b[0m msg \u001b[38;5;241m=\u001b[39m \u001b[38;5;124m\"\u001b[39m\u001b[38;5;124mcannot identify image file \u001b[39m\u001b[38;5;132;01m%r\u001b[39;00m\u001b[38;5;124m\"\u001b[39m \u001b[38;5;241m%\u001b[39m (filename \u001b[38;5;28;01mif\u001b[39;00m filename \u001b[38;5;28;01melse\u001b[39;00m fp)\n\u001b[1;32m-> 3298\u001b[0m \u001b[38;5;28;01mraise\u001b[39;00m UnidentifiedImageError(msg)\n",
      "\u001b[1;31mUnidentifiedImageError\u001b[0m: cannot identify image file 'D:\\\\MachineLearning_FinalProject\\\\code\\\\photo\\\\JayChou.jpg'",
      "\nDuring handling of the above exception, another exception occurred:\n",
      "\u001b[1;31mNameError\u001b[0m                                 Traceback (most recent call last)",
      "Cell \u001b[1;32mIn[81], line 2\u001b[0m\n\u001b[0;32m      1\u001b[0m folder_path \u001b[38;5;241m=\u001b[39m \u001b[38;5;124m\"\u001b[39m\u001b[38;5;124mD:\u001b[39m\u001b[38;5;124m\\\u001b[39m\u001b[38;5;124mMachineLearning_FinalProject\u001b[39m\u001b[38;5;124m\\\u001b[39m\u001b[38;5;124mcode\u001b[39m\u001b[38;5;124m\\\u001b[39m\u001b[38;5;124mphoto\u001b[39m\u001b[38;5;130;01m\\\\\u001b[39;00m\u001b[38;5;124m\"\u001b[39m\n\u001b[1;32m----> 2\u001b[0m preprocess_photo \u001b[38;5;241m=\u001b[39m \u001b[43mread_images_from_folder\u001b[49m\u001b[43m(\u001b[49m\u001b[43mfolder_path\u001b[49m\u001b[43m)\u001b[49m\n\u001b[0;32m      3\u001b[0m \u001b[38;5;28;01mfor\u001b[39;00m i \u001b[38;5;129;01min\u001b[39;00m \u001b[38;5;28mrange\u001b[39m(\u001b[38;5;28mlen\u001b[39m(preprocess_photo)):\n\u001b[0;32m      4\u001b[0m     preprocess_photo[i] \u001b[38;5;241m=\u001b[39m _preprocess(preprocess_photo[i])\n",
      "Cell \u001b[1;32mIn[80], line 24\u001b[0m, in \u001b[0;36mread_images_from_folder\u001b[1;34m(folder_path)\u001b[0m\n\u001b[0;32m     22\u001b[0m         \u001b[38;5;28;01melse\u001b[39;00m:\n\u001b[0;32m     23\u001b[0m             \u001b[38;5;28mprint\u001b[39m(\u001b[38;5;124mf\u001b[39m\u001b[38;5;124m\"\u001b[39m\u001b[38;5;124m圖片尺寸為 \u001b[39m\u001b[38;5;132;01m{\u001b[39;00mimg\u001b[38;5;241m.\u001b[39msize\u001b[38;5;132;01m}\u001b[39;00m\u001b[38;5;124m, 不是 360x360: \u001b[39m\u001b[38;5;132;01m{\u001b[39;00mfilename\u001b[38;5;132;01m}\u001b[39;00m\u001b[38;5;124m\"\u001b[39m)\n\u001b[1;32m---> 24\u001b[0m \u001b[38;5;28;01mexcept\u001b[39;00m \u001b[43mUnidentifiedImageError\u001b[49m:\n\u001b[0;32m     25\u001b[0m     \u001b[38;5;28mprint\u001b[39m(\u001b[38;5;124mf\u001b[39m\u001b[38;5;124m\"\u001b[39m\u001b[38;5;124m無法識別圖片文件: \u001b[39m\u001b[38;5;132;01m{\u001b[39;00mfilename\u001b[38;5;132;01m}\u001b[39;00m\u001b[38;5;124m\"\u001b[39m)\n\u001b[0;32m     26\u001b[0m \u001b[38;5;28;01mexcept\u001b[39;00m \u001b[38;5;167;01mException\u001b[39;00m \u001b[38;5;28;01mas\u001b[39;00m e:\n",
      "\u001b[1;31mNameError\u001b[0m: name 'UnidentifiedImageError' is not defined"
     ]
    }
   ],
   "source": [
    "folder_path = \"D:\\MachineLearning_FinalProject\\code\\photo\\\\\"\n",
    "preprocess_photo = read_images_from_folder(folder_path)\n",
    "for i in range(len(preprocess_photo)):\n",
    "    preprocess_photo[i] = _preprocess(preprocess_photo[i])\n",
    "#preprocess_photo\n"
   ]
  },
  {
   "cell_type": "code",
   "execution_count": null,
   "metadata": {},
   "outputs": [],
   "source": []
  },
  {
   "cell_type": "markdown",
   "metadata": {},
   "source": [
    "### Model"
   ]
  },
  {
   "cell_type": "code",
   "execution_count": null,
   "metadata": {},
   "outputs": [],
   "source": [
    "# neural network\n",
    "# CNN\n",
    "# SVM\n",
    "def Model():\n",
    "    pass"
   ]
  },
  {
   "cell_type": "code",
   "execution_count": null,
   "metadata": {
    "vscode": {
     "languageId": "plaintext"
    }
   },
   "outputs": [],
   "source": [
    "class NN(): \n",
    "    def __init__(self, input_size, hidden_size1, hidden_size2, output_size, activation):   \n",
    "        self.W1 = np.random.randn(input_size, hidden_size1) / np.sqrt(input_size);\n",
    "        self.b1 = np.zeros([1, hidden_size1]);\n",
    "        self.W2 = np.random.randn(hidden_size1, hidden_size2) / np.sqrt(input_size);\n",
    "        self.b2 = np.zeros([1, hidden_size2]);\n",
    "        self.W3 = np.random.randn(hidden_size2, output_size) / np.sqrt(input_size);\n",
    "        self.b3 = np.zeros([1, output_size]);\n",
    "        \n",
    "        self.placeholder = {\"x\":None, \"y\":None};\n",
    "        self.activation = activation;\n",
    "        # pass\n",
    "    \n",
    "    # Feed Placeholder\n",
    "    def feed(self, feed_dict):\n",
    "        for key in feed_dict :\n",
    "            self.placeholder[key] = feed_dict[key].copy();\n",
    "        # pass\n",
    "    \n",
    "    # Forward Propagation\n",
    "    def forward(self):\n",
    "        n = self.placeholder[\"x\"].shape[0];\n",
    "        self.A1 = np.ones((n, 1)).dot(self.b1) + self.placeholder[\"x\"].dot(self.W1);\n",
    "        self.H1 = np.maximum(self.A1, 0);\n",
    "        self.A2 = np.ones((n, 1)).dot(self.b2) + self.H1.dot(self.W2);\n",
    "        self.H2 = np.maximum(self.A2, 0);\n",
    "        self.A3 = np.ones((n, 1)).dot(self.b3) + self.H2.dot(self.W3);\n",
    "        \n",
    "        if self.activation == \"linear\" :\n",
    "            self.y = self.A3.copy();\n",
    "        elif self.activation == \"sigmoid\" :\n",
    "            self.y = 1.0 / (1.0 + np.exp(-self.A3));\n",
    "        elif self.activation == \"softmax\" :\n",
    "            self.logit_y = np.exp(self.A3 - np.max(self.A3, 1, keepdims=True));\n",
    "            self.y = self.logit_y / np.sum(self.logit_y, 1, keepdims=True);\n",
    "        \n",
    "        return self.y;\n",
    "        # pass\n",
    "    \n",
    "    # Backward Propagation\n",
    "    def backward(self):\n",
    "        n = self.placeholder[\"y\"].shape[0];\n",
    "        self.grab_A3 = (self.y - self.placeholder[\"y\"]) / n;\n",
    "        self.grab_b3 = np.ones((n, 1)).T.dot(self.grab_A3);\n",
    "        self.grab_W3 = self.H2.T.dot(self.grab_A3);\n",
    "        self.grab_H2 = self.grab_A3.dot(self.W3.T);\n",
    "        self.grab_A2 = self.grab_H2 * (self.A2 > 0).astype(float);\n",
    "        self.grab_b2 = np.ones((n, 1)).T.dot(self.grab_A2);\n",
    "        self.grab_W2 = self.H1.T.dot(self.grab_A2);\n",
    "        self.grab_H1 = self.grab_A2.dot(self.W2.T);\n",
    "        self.grab_A1 = self.grab_H1 * (self.A1 > 0).astype(float);\n",
    "        self.grab_b1 = np.ones((n, 1)).T.dot(self.grab_A1);\n",
    "        self.grab_W1 = self.placeholder[\"x\"].T.dot(self.grab_A1); \n",
    "        # pass\n",
    "    \n",
    "    # Update Weights\n",
    "    def update(self, learning_rate=1e-3):\n",
    "        self.W3 = self.W3 - learning_rate*self.grab_W3;\n",
    "        self.W2 = self.W2 - learning_rate*self.grab_W2;\n",
    "        self.W1 = self.W1 - learning_rate*self.grab_W1;\n",
    "        self.b3 = self.b3 - learning_rate*self.grab_b3;\n",
    "        self.b2 = self.b2 - learning_rate*self.grab_b2;\n",
    "        self.b1 = self.b1 - learning_rate*self.grab_b1;\n",
    "        # pass\n",
    "    \n",
    "    # Loss Functions\n",
    "    def computeLoss(self):\n",
    "        loss = 0.0;\n",
    "        if(self.activation == \"linear\") : \n",
    "            loss = 0.5 * np.square(self.y - self.placeholder[\"y\"]).mean();\n",
    "        elif(self.activation == \"softmax\") :\n",
    "            loss = np.sum((-self.placeholder[\"y\"] * np.log(self.y + 1e-6)) , 1).mean();\n",
    "        elif(self.activation == \"sigmoid\") :\n",
    "            loss = np.sum((-self.placeholder[\"y\"] * np.log(self.y + 1e-6)) \n",
    "                          - (1-self.placeholder[\"y\"]) * np.log(1-self.y + 1e-6)).mean();\n",
    "        return loss;\n",
    "        pass"
   ]
  }
 ],
 "metadata": {
  "kernelspec": {
   "display_name": "Python 3",
   "language": "python",
   "name": "python3"
  },
  "language_info": {
   "codemirror_mode": {
    "name": "ipython",
    "version": 3
   },
   "file_extension": ".py",
   "mimetype": "text/x-python",
   "name": "python",
   "nbconvert_exporter": "python",
   "pygments_lexer": "ipython3",
   "version": "3.11.2"
  }
 },
 "nbformat": 4,
 "nbformat_minor": 2
}
